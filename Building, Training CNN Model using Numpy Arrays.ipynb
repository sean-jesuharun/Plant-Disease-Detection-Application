{
 "cells": [
  {
   "cell_type": "code",
   "execution_count": 1,
   "id": "4f640313",
   "metadata": {},
   "outputs": [],
   "source": [
    "## Required imports ...\n",
    "import tensorflow as tf\n",
    "from tensorflow import keras\n",
    "import matplotlib.pyplot as plt\n",
    "import numpy as np\n",
    "import os"
   ]
  },
  {
   "cell_type": "code",
   "execution_count": 2,
   "id": "37018eb2",
   "metadata": {},
   "outputs": [],
   "source": [
    "## paths for the folders... [train, valid]\n",
    "\n",
    "train_path = \"C:/Users/SEAN/Desktop/data/train\"\n",
    "valid_path = \"C:/Users/SEAN/Desktop/data/valid\""
   ]
  },
  {
   "cell_type": "code",
   "execution_count": 4,
   "id": "bcd6fa67",
   "metadata": {},
   "outputs": [
    {
     "ename": "KeyboardInterrupt",
     "evalue": "",
     "output_type": "error",
     "traceback": [
      "\u001b[1;31m---------------------------------------------------------------------------\u001b[0m",
      "\u001b[1;31mKeyboardInterrupt\u001b[0m                         Traceback (most recent call last)",
      "\u001b[1;32m<ipython-input-4-b4830650d831>\u001b[0m in \u001b[0;36m<module>\u001b[1;34m\u001b[0m\n\u001b[0;32m     25\u001b[0m     \u001b[1;32mfor\u001b[0m \u001b[0mimg\u001b[0m \u001b[1;32min\u001b[0m \u001b[0mos\u001b[0m\u001b[1;33m.\u001b[0m\u001b[0mlistdir\u001b[0m\u001b[1;33m(\u001b[0m\u001b[0msub_path\u001b[0m\u001b[1;33m)\u001b[0m\u001b[1;33m:\u001b[0m\u001b[1;33m\u001b[0m\u001b[1;33m\u001b[0m\u001b[0m\n\u001b[0;32m     26\u001b[0m         \u001b[0mimage_path\u001b[0m\u001b[1;33m=\u001b[0m\u001b[0msub_path\u001b[0m\u001b[1;33m+\u001b[0m\u001b[1;34m\"/\"\u001b[0m\u001b[1;33m+\u001b[0m\u001b[0mimg\u001b[0m\u001b[1;33m\u001b[0m\u001b[1;33m\u001b[0m\u001b[0m\n\u001b[1;32m---> 27\u001b[1;33m         \u001b[0mimg_arr\u001b[0m\u001b[1;33m=\u001b[0m\u001b[0mcv2\u001b[0m\u001b[1;33m.\u001b[0m\u001b[0mimread\u001b[0m\u001b[1;33m(\u001b[0m\u001b[0mimage_path\u001b[0m\u001b[1;33m)\u001b[0m\u001b[1;33m\u001b[0m\u001b[1;33m\u001b[0m\u001b[0m\n\u001b[0m\u001b[0;32m     28\u001b[0m         \u001b[0mx_valid\u001b[0m\u001b[1;33m.\u001b[0m\u001b[0mappend\u001b[0m\u001b[1;33m(\u001b[0m\u001b[0mimg_arr\u001b[0m\u001b[1;33m)\u001b[0m\u001b[1;33m\u001b[0m\u001b[1;33m\u001b[0m\u001b[0m\n\u001b[0;32m     29\u001b[0m         \u001b[0mclass_name2\u001b[0m\u001b[1;33m.\u001b[0m\u001b[0mappend\u001b[0m\u001b[1;33m(\u001b[0m\u001b[0mfolder\u001b[0m\u001b[1;33m)\u001b[0m\u001b[1;33m\u001b[0m\u001b[1;33m\u001b[0m\u001b[0m\n",
      "\u001b[1;31mKeyboardInterrupt\u001b[0m: "
     ]
    }
   ],
   "source": [
    "## Store all the images from the Training Dataset.\n",
    "x_train=[] \n",
    "\n",
    "## Labels in string corresponding to each Training images from the Trainning Dataset.\n",
    "class_name1=[]  \n",
    "\n",
    "for folder in os.listdir(train_path):\n",
    "    sub_path=train_path+\"/\"+folder\n",
    "    for img in os.listdir(sub_path):\n",
    "        image_path=sub_path+\"/\"+img\n",
    "        img_arr = cv2.imread(image_path)\n",
    "        x_train.append(img_arr)\n",
    "        class_name1.append(folder)\n",
    "        \n",
    "        \n",
    "        \n",
    "## Store all the images from the Validation Dataset.\n",
    "x_valid=[]\n",
    "\n",
    "## Labels in string corresponding to each Training images from the Validation Dataset.    \n",
    "class_name2 = []\n",
    "\n",
    "for folder in os.listdir(valid_path):\n",
    "    sub_path=train_path+\"/\"+folder\n",
    "    for img in os.listdir(sub_path):\n",
    "        image_path=sub_path+\"/\"+img\n",
    "        img_arr=cv2.imread(image_path)\n",
    "        x_valid.append(img_arr)  \n",
    "        class_name2.append(folder)"
   ]
  },
  {
   "cell_type": "code",
   "execution_count": 6,
   "id": "b12409b8",
   "metadata": {},
   "outputs": [
    {
     "data": {
      "text/plain": [
       "['Corn_(maize)___Cercospora_leaf_spot Gray_leaf_spot',\n",
       " 'Corn_(maize)___Cercospora_leaf_spot Gray_leaf_spot',\n",
       " 'Corn_(maize)___Cercospora_leaf_spot Gray_leaf_spot',\n",
       " 'Corn_(maize)___Cercospora_leaf_spot Gray_leaf_spot',\n",
       " 'Corn_(maize)___Cercospora_leaf_spot Gray_leaf_spot',\n",
       " 'Corn_(maize)___Cercospora_leaf_spot Gray_leaf_spot',\n",
       " 'Corn_(maize)___Cercospora_leaf_spot Gray_leaf_spot',\n",
       " 'Corn_(maize)___Cercospora_leaf_spot Gray_leaf_spot']"
      ]
     },
     "execution_count": 6,
     "metadata": {},
     "output_type": "execute_result"
    }
   ],
   "source": [
    "## Checking whether the class names are stored correctly in the list\n",
    "class_name1[47:55]"
   ]
  },
  {
   "cell_type": "code",
   "execution_count": 7,
   "id": "10248778",
   "metadata": {
    "scrolled": true
   },
   "outputs": [],
   "source": [
    "## Creating a dictonary which has the unique classname as key and a unique index as a value.\n",
    "y_train_dict={k: v for v, k in enumerate(np.unique(class_name1))}\n",
    "y_valid_dict={k: v for v, k in enumerate(np.unique(class_name2))}"
   ]
  },
  {
   "cell_type": "code",
   "execution_count": 8,
   "id": "8829947f",
   "metadata": {},
   "outputs": [
    {
     "data": {
      "text/plain": [
       "{'Corn_(maize)___Cercospora_leaf_spot Gray_leaf_spot': 0,\n",
       " 'Corn_(maize)___Common_rust_': 1,\n",
       " 'Corn_(maize)___Northern_Leaf_Blight': 2,\n",
       " 'Corn_(maize)___healthy': 3,\n",
       " 'Pepper,_bell___Bacterial_spot': 4,\n",
       " 'Pepper,_bell___healthy': 5,\n",
       " 'Potato___Early_blight': 6,\n",
       " 'Potato___Late_blight': 7,\n",
       " 'Potato___healthy': 8,\n",
       " 'Soybean___healthy': 9}"
      ]
     },
     "execution_count": 8,
     "metadata": {},
     "output_type": "execute_result"
    }
   ],
   "source": [
    "## Displaying the dictonary for testing purpose whether it has any duplicates or irrelavent information.\n",
    "y_train_dict"
   ]
  },
  {
   "cell_type": "code",
   "execution_count": 9,
   "id": "3ea67bf2",
   "metadata": {},
   "outputs": [],
   "source": [
    "## Assigning correspoding intergers for the class labels.\n",
    "y_train =  [y_train_dict[class_name1[i]] for i in range(len(class_name1))]\n",
    "y_valid =  [y_valid_dict[class_name2[i]] for i in range(len(class_name2))]"
   ]
  },
  {
   "cell_type": "code",
   "execution_count": 10,
   "id": "86323f58",
   "metadata": {},
   "outputs": [],
   "source": [
    "## Changing x_train,x_valid into a numpy array.\n",
    "x_train = np.array(x_train)\n",
    "x_valid = np.array(x_valid)\n",
    "\n",
    "## Changing y_train,y_valid into a numpy array.\n",
    "y_train = np.array(y_train)\n",
    "y_valid = np.array(y_valid)"
   ]
  },
  {
   "cell_type": "code",
   "execution_count": 11,
   "id": "9b929ce1",
   "metadata": {},
   "outputs": [],
   "source": [
    "## Normalizing both the training and the validation Data.\n",
    "x_train = x_train / 255\n",
    "x_valid = x_valid / 255"
   ]
  },
  {
   "cell_type": "code",
   "execution_count": 12,
   "id": "705252bc",
   "metadata": {},
   "outputs": [
    {
     "data": {
      "text/plain": [
       "(2520, 256, 256, 3)"
      ]
     },
     "execution_count": 12,
     "metadata": {},
     "output_type": "execute_result"
    }
   ],
   "source": [
    "x_train.shape\n",
    "y_train.shape"
   ]
  },
  {
   "cell_type": "code",
   "execution_count": 16,
   "id": "993ee528",
   "metadata": {},
   "outputs": [
    {
     "name": "stdout",
     "output_type": "stream",
     "text": [
      "Epoch 1/5\n",
      "79/79 [==============================] - 13s 104ms/step - loss: 97.1080 - accuracy: 0.3234\n",
      "Epoch 2/5\n",
      "79/79 [==============================] - 7s 95ms/step - loss: 1.1547 - accuracy: 0.6123\n",
      "Epoch 3/5\n",
      "79/79 [==============================] - 8s 95ms/step - loss: 0.8441 - accuracy: 0.7448\n",
      "Epoch 4/5\n",
      "79/79 [==============================] - 8s 95ms/step - loss: 0.3568 - accuracy: 0.9079\n",
      "Epoch 5/5\n",
      "79/79 [==============================] - 8s 95ms/step - loss: 0.4538 - accuracy: 0.8853\n"
     ]
    },
    {
     "data": {
      "text/plain": [
       "<keras.callbacks.History at 0x1db9de01250>"
      ]
     },
     "execution_count": 16,
     "metadata": {},
     "output_type": "execute_result"
    }
   ],
   "source": [
    "## Building CNN Model(Plant Disease Detection Model)\n",
    "\n",
    "cnn = keras.Sequential([\n",
    "    \n",
    "    ## Convolutional layers and pooling layers.\n",
    "    keras.layers.Conv2D(filters=32, kernel_size=(3,3), activation='relu', padding=\"same\", input_shape=(256,256,3)),\n",
    "    keras.layers.MaxPooling2D((2,2)),\n",
    "    \n",
    "    keras.layers.Conv2D(filters=64, kernel_size=(3,3), activation='relu', padding=\"same\"),\n",
    "    keras.layers.MaxPooling2D((2,2)),\n",
    "    \n",
    "    keras.layers.Conv2D(filters=128, kernel_size=(3,3), activation='relu', padding=\"same\"),\n",
    "    keras.layers.MaxPooling2D((2,2)),\n",
    "    \n",
    "    keras.layers.Conv2D(filters=128, kernel_size=(3,3), activation='relu', padding=\"same\"),\n",
    "    keras.layers.MaxPooling2D((2,2)),\n",
    "    \n",
    "    ## Flattening the 2D array into 1D in order to supply this for the Dense layers.\n",
    "    keras.layers.Flatten(),\n",
    "    \n",
    "    ## Dense Layers.\n",
    "    keras.layers.Dense(1500, activation='relu'),\n",
    "    keras.layers.Dropout(0.5),\n",
    "    \n",
    "    keras.layers.Dense(25, activation='softmax')\n",
    "])\n",
    "\n",
    "cnn.compile(\n",
    "    optimizer='adam',\n",
    "    loss='sparse_categorical_crossentropy',\n",
    "    metrics=['accuracy']\n",
    ")\n",
    "\n",
    "cnn.summary()"
   ]
  },
  {
   "cell_type": "code",
   "execution_count": null,
   "id": "f1c902a2",
   "metadata": {},
   "outputs": [],
   "source": [
    "cnn.fit(x_train, y_train, epochs=8)"
   ]
  }
 ],
 "metadata": {
  "kernelspec": {
   "display_name": "Python 3",
   "language": "python",
   "name": "python3"
  },
  "language_info": {
   "codemirror_mode": {
    "name": "ipython",
    "version": 3
   },
   "file_extension": ".py",
   "mimetype": "text/x-python",
   "name": "python",
   "nbconvert_exporter": "python",
   "pygments_lexer": "ipython3",
   "version": "3.8.8"
  }
 },
 "nbformat": 4,
 "nbformat_minor": 5
}
