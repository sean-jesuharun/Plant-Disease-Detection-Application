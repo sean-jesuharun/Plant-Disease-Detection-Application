{
 "cells": [
  {
   "cell_type": "code",
   "execution_count": 1,
   "id": "9e17df52",
   "metadata": {},
   "outputs": [],
   "source": [
    "import tensorflow as tf\n",
    "from tensorflow import keras\n",
    "from keras.preprocessing.image import ImageDataGenerator\n",
    "import numpy as np\n",
    "import os"
   ]
  },
  {
   "cell_type": "code",
   "execution_count": 2,
   "id": "b554a202",
   "metadata": {},
   "outputs": [],
   "source": [
    "## paths for the folders... [train, valid]\n",
    "\n",
    "train_path = \"C:/Users/SEAN/Desktop/data/train\"\n",
    "valid_path = \"C:/Users/SEAN/Desktop/data/valid\""
   ]
  },
  {
   "cell_type": "code",
   "execution_count": 3,
   "id": "8b5d6f33",
   "metadata": {},
   "outputs": [],
   "source": [
    "## Data augmentation to train the model with different kinds of data (Diseased Images).\n",
    "train_gen = ImageDataGenerator(\n",
    "    \n",
    "    rescale = 1./255,         ## Normalizing data\n",
    "    \n",
    "    fill_mode='nearest',       ## default\n",
    "    horizontal_flip = True,    \n",
    "    vertical_flip = True,     ## All images of a single class in the dataset has been taken under in a same position.\n",
    "    rotation_range = 90,      ## Trainning using rotated images to help the model to predict correct disease from differnt angles.\n",
    "    brightness_range = [0.95,1.3],  ## Trainning under differnt light conditions to help the model to support in diffenrt light conditions.\n",
    "    zoom_range = [0.8,1.1],   ## Trainning the model in zoom in and zoom out postures to train it efficiently.\n",
    "    \n",
    "    \n",
    ")\n",
    "\n",
    "## Valid image Generator\n",
    "validation_gen = ImageDataGenerator(\n",
    "    \n",
    "    rescale = 1./255,\n",
    "    \n",
    ")"
   ]
  },
  {
   "cell_type": "code",
   "execution_count": 4,
   "id": "9e82019a",
   "metadata": {},
   "outputs": [],
   "source": [
    "## Declaring the batch size to be 32.\n",
    "batch_size = 32"
   ]
  },
  {
   "cell_type": "code",
   "execution_count": 5,
   "id": "27552af8",
   "metadata": {},
   "outputs": [
    {
     "name": "stdout",
     "output_type": "stream",
     "text": [
      "Found 92168 images belonging to 25 classes.\n",
      "Found 23040 images belonging to 25 classes.\n"
     ]
    }
   ],
   "source": [
    "## Train iterator\n",
    "training_set = train_gen.flow_from_directory(\n",
    "    \n",
    "    train_path,\n",
    "    target_size = (256, 256),\n",
    "    color_mode = 'rgb',         ## default\n",
    "    class_mode = 'sparse',      ## Classes are being set to a unique integer values.\n",
    "    batch_size = batch_size,       \n",
    "    shuffle = True,             ## default\n",
    "       \n",
    "    \n",
    ")\n",
    "\n",
    "\n",
    "## Validation iterator\n",
    "validation_set = validation_gen.flow_from_directory(\n",
    "\n",
    "    valid_path,\n",
    "    target_size = (256, 256),\n",
    "    color_mode = 'rgb',         ## default\n",
    "    class_mode = 'sparse',\n",
    "    batch_size = batch_size,    \n",
    "    shuffle = False,            ## default\n",
    "    \n",
    ")"
   ]
  },
  {
   "cell_type": "code",
   "execution_count": 6,
   "id": "53de6077",
   "metadata": {},
   "outputs": [],
   "source": [
    "## setting the total amount for trainning images and validation images in two different variables.\n",
    "no_train_data = 92168\n",
    "no_validation_data = 23040"
   ]
  },
  {
   "cell_type": "code",
   "execution_count": 7,
   "id": "437a7e0b",
   "metadata": {},
   "outputs": [
    {
     "data": {
      "text/plain": [
       "{'00_Corn_(maize)___Cercospora_leaf_spot Gray_leaf_spot': 0,\n",
       " '01_Corn_(maize)___Common_rust_': 1,\n",
       " '02_Corn_(maize)___healthy': 2,\n",
       " '03_Corn_(maize)___Northern_Leaf_Blight': 3,\n",
       " '04_Grape___Black_rot': 4,\n",
       " '05_Grape___Esca_(Black_Measles)': 5,\n",
       " '06_Grape___healthy': 6,\n",
       " '07_Grape___Leaf_blight_(Isariopsis_Leaf_Spot)': 7,\n",
       " '08_Pepper,_bell___Bacterial_spot': 8,\n",
       " '09_Pepper,_bell___healthy': 9,\n",
       " '10_Potato___Early_blight': 10,\n",
       " '11_Potato___healthy': 11,\n",
       " '12_Potato___Late_blight': 12,\n",
       " '13_Strawberry___healthy': 13,\n",
       " '14_Strawberry___Leaf_scorch': 14,\n",
       " '15_Tomato___Bacterial_spot': 15,\n",
       " '16_Tomato___Early_blight': 16,\n",
       " '17_Tomato___healthy': 17,\n",
       " '18_Tomato___Late_blight': 18,\n",
       " '19_Tomato___Leaf_Mold': 19,\n",
       " '20_Tomato___Septoria_leaf_spot': 20,\n",
       " '21_Tomato___Spider_mites Two-spotted_spider_mite': 21,\n",
       " '22_Tomato___Target_Spot': 22,\n",
       " '23_Tomato___Tomato_mosaic_virus': 23,\n",
       " '24_Tomato___Tomato_Yellow_Leaf_Curl_Virus': 24}"
      ]
     },
     "execution_count": 7,
     "metadata": {},
     "output_type": "execute_result"
    }
   ],
   "source": [
    "##Viewing the Trainnig classes and the corresponding indices thats being allocated for each classes.\n",
    "training_set.class_indices"
   ]
  },
  {
   "cell_type": "code",
   "execution_count": 8,
   "id": "74b387d8",
   "metadata": {},
   "outputs": [
    {
     "data": {
      "text/plain": [
       "{'00_Corn_(maize)___Cercospora_leaf_spot Gray_leaf_spot': 0,\n",
       " '01_Corn_(maize)___Common_rust_': 1,\n",
       " '02_Corn_(maize)___healthy': 2,\n",
       " '03_Corn_(maize)___Northern_Leaf_Blight': 3,\n",
       " '04_Grape___Black_rot': 4,\n",
       " '05_Grape___Esca_(Black_Measles)': 5,\n",
       " '06_Grape___healthy': 6,\n",
       " '07_Grape___Leaf_blight_(Isariopsis_Leaf_Spot)': 7,\n",
       " '08_Pepper,_bell___Bacterial_spot': 8,\n",
       " '09_Pepper,_bell___healthy': 9,\n",
       " '10_Potato___Early_blight': 10,\n",
       " '11_Potato___healthy': 11,\n",
       " '12_Potato___Late_blight': 12,\n",
       " '13_Strawberry___healthy': 13,\n",
       " '14_Strawberry___Leaf_scorch': 14,\n",
       " '15_Tomato___Bacterial_spot': 15,\n",
       " '16_Tomato___Early_blight': 16,\n",
       " '17_Tomato___healthy': 17,\n",
       " '18_Tomato___Late_blight': 18,\n",
       " '19_Tomato___Leaf_Mold': 19,\n",
       " '20_Tomato___Septoria_leaf_spot': 20,\n",
       " '21_Tomato___Spider_mites Two-spotted_spider_mite': 21,\n",
       " '22_Tomato___Target_Spot': 22,\n",
       " '23_Tomato___Tomato_mosaic_virus': 23,\n",
       " '24_Tomato___Tomato_Yellow_Leaf_Curl_Virus': 24}"
      ]
     },
     "execution_count": 8,
     "metadata": {},
     "output_type": "execute_result"
    }
   ],
   "source": [
    "##Viewing the Validation classes and the corresponding indices thats being allocated for each classes.\n",
    "validation_set.class_indices"
   ]
  },
  {
   "cell_type": "code",
   "execution_count": 9,
   "id": "50d85c50",
   "metadata": {},
   "outputs": [
    {
     "data": {
      "text/plain": [
       "2881"
      ]
     },
     "execution_count": 9,
     "metadata": {},
     "output_type": "execute_result"
    }
   ],
   "source": [
    "len(training_set)"
   ]
  },
  {
   "cell_type": "code",
   "execution_count": 10,
   "id": "c7ba7b1c",
   "metadata": {},
   "outputs": [
    {
     "data": {
      "text/plain": [
       "720"
      ]
     },
     "execution_count": 10,
     "metadata": {},
     "output_type": "execute_result"
    }
   ],
   "source": [
    "len(validation_set)"
   ]
  },
  {
   "cell_type": "code",
   "execution_count": 11,
   "id": "dd398f61",
   "metadata": {
    "scrolled": true
   },
   "outputs": [
    {
     "name": "stdout",
     "output_type": "stream",
     "text": [
      "Model: \"sequential\"\n",
      "_________________________________________________________________\n",
      " Layer (type)                Output Shape              Param #   \n",
      "=================================================================\n",
      " conv2d (Conv2D)             (None, 256, 256, 32)      896       \n",
      "                                                                 \n",
      " max_pooling2d (MaxPooling2D  (None, 128, 128, 32)     0         \n",
      " )                                                               \n",
      "                                                                 \n",
      " conv2d_1 (Conv2D)           (None, 128, 128, 64)      18496     \n",
      "                                                                 \n",
      " max_pooling2d_1 (MaxPooling  (None, 64, 64, 64)       0         \n",
      " 2D)                                                             \n",
      "                                                                 \n",
      " conv2d_2 (Conv2D)           (None, 64, 64, 128)       73856     \n",
      "                                                                 \n",
      " max_pooling2d_2 (MaxPooling  (None, 32, 32, 128)      0         \n",
      " 2D)                                                             \n",
      "                                                                 \n",
      " conv2d_3 (Conv2D)           (None, 32, 32, 128)       147584    \n",
      "                                                                 \n",
      " max_pooling2d_3 (MaxPooling  (None, 16, 16, 128)      0         \n",
      " 2D)                                                             \n",
      "                                                                 \n",
      " flatten (Flatten)           (None, 32768)             0         \n",
      "                                                                 \n",
      " dense (Dense)               (None, 1500)              49153500  \n",
      "                                                                 \n",
      " dropout (Dropout)           (None, 1500)              0         \n",
      "                                                                 \n",
      " dense_1 (Dense)             (None, 25)                37525     \n",
      "                                                                 \n",
      "=================================================================\n",
      "Total params: 49,431,857\n",
      "Trainable params: 49,431,857\n",
      "Non-trainable params: 0\n",
      "_________________________________________________________________\n"
     ]
    }
   ],
   "source": [
    "## Building CNN Model(Plant Disease Detection Model)\n",
    "\n",
    "cnn = keras.Sequential([\n",
    "    \n",
    "    ## Convolutional layers and pooling layers.\n",
    "    keras.layers.Conv2D(filters=32, kernel_size=(3,3), activation='relu', padding=\"same\", input_shape=(256,256,3)),\n",
    "    keras.layers.MaxPooling2D((2,2)),\n",
    "    \n",
    "    keras.layers.Conv2D(filters=64, kernel_size=(3,3), activation='relu', padding=\"same\"),\n",
    "    keras.layers.MaxPooling2D((2,2)),\n",
    "    \n",
    "    keras.layers.Conv2D(filters=128, kernel_size=(3,3), activation='relu', padding=\"same\"),\n",
    "    keras.layers.MaxPooling2D((2,2)),\n",
    "    \n",
    "    keras.layers.Conv2D(filters=128, kernel_size=(3,3), activation='relu', padding=\"same\"),\n",
    "    keras.layers.MaxPooling2D((2,2)),\n",
    "    \n",
    "    ## Flattening the 2D array into 1D in order to supply this for the Dense layers.\n",
    "    keras.layers.Flatten(),\n",
    "    \n",
    "    ## Dense Layers.\n",
    "    keras.layers.Dense(1500, activation='relu'),\n",
    "    keras.layers.Dropout(0.5),\n",
    "    \n",
    "    keras.layers.Dense(25, activation='softmax')\n",
    "])\n",
    "\n",
    "cnn.compile(\n",
    "    optimizer='adam',\n",
    "    loss='sparse_categorical_crossentropy',\n",
    "    metrics=['accuracy']\n",
    ")\n",
    "\n",
    "cnn.summary()"
   ]
  },
  {
   "cell_type": "code",
   "execution_count": null,
   "id": "fedeaec0",
   "metadata": {
    "scrolled": true
   },
   "outputs": [],
   "source": [
    "## Training process \n",
    "cnn.fit(\n",
    "    \n",
    "    training_set,\n",
    "    steps_per_epoch = no_train_data // batch_size,\n",
    "    epochs = 8,\n",
    "    validation_data = validation_set,\n",
    "    validation_steps = no_validation_data // batch_size\n",
    ")"
   ]
  },
  {
   "cell_type": "code",
   "execution_count": null,
   "id": "3d1fe03e",
   "metadata": {},
   "outputs": [],
   "source": [
    "## Saving the trainned model.\n",
    "cnn.save('C:/Users/SEAN/Desktop/data/DetecXster_Edit_model.h5')"
   ]
  }
 ],
 "metadata": {
  "kernelspec": {
   "display_name": "Python 3",
   "language": "python",
   "name": "python3"
  },
  "language_info": {
   "codemirror_mode": {
    "name": "ipython",
    "version": 3
   },
   "file_extension": ".py",
   "mimetype": "text/x-python",
   "name": "python",
   "nbconvert_exporter": "python",
   "pygments_lexer": "ipython3",
   "version": "3.8.8"
  }
 },
 "nbformat": 4,
 "nbformat_minor": 5
}
