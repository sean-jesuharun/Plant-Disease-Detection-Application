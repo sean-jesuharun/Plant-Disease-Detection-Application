{
 "cells": [
  {
   "cell_type": "code",
   "execution_count": 1,
   "id": "113f860c",
   "metadata": {},
   "outputs": [],
   "source": [
    "## Required imports ...\n",
    "from keras.preprocessing.image import image_dataset_from_directory\n",
    "import tensorflow as tf\n",
    "from tensorflow import keras\n",
    "import matplotlib.pyplot as plt\n",
    "import numpy as np\n",
    "import os"
   ]
  },
  {
   "cell_type": "code",
   "execution_count": 2,
   "id": "8a6ca6f2",
   "metadata": {},
   "outputs": [],
   "source": [
    "## paths for the folder... [train]\n",
    "train_path = \"C:/Users/SEAN/Desktop/data/train\""
   ]
  },
  {
   "cell_type": "code",
   "execution_count": 3,
   "id": "a3c838fc",
   "metadata": {},
   "outputs": [
    {
     "name": "stdout",
     "output_type": "stream",
     "text": [
      "Found 92168 files belonging to 25 classes.\n"
     ]
    }
   ],
   "source": [
    "## Loading the training dataset using keras \"image_dataset_from_directory\" function.\n",
    "ds_train = tf.keras.preprocessing.image_dataset_from_directory(\n",
    "    \n",
    "    train_path,\n",
    "    labels = 'inferred',\n",
    "    batch_size = 32,\n",
    "    label_mode = 'int',\n",
    "    \n",
    "    ## Inorder to get randomized order...\n",
    "    shuffle=True,        \n",
    "        \n",
    ")"
   ]
  },
  {
   "cell_type": "code",
   "execution_count": 4,
   "id": "c38d3edd",
   "metadata": {},
   "outputs": [
    {
     "name": "stdout",
     "output_type": "stream",
     "text": [
      "Model: \"sequential\"\n",
      "_________________________________________________________________\n",
      " Layer (type)                Output Shape              Param #   \n",
      "=================================================================\n",
      " conv2d (Conv2D)             (None, 256, 256, 32)      896       \n",
      "                                                                 \n",
      " max_pooling2d (MaxPooling2D  (None, 128, 128, 32)     0         \n",
      " )                                                               \n",
      "                                                                 \n",
      " conv2d_1 (Conv2D)           (None, 128, 128, 64)      18496     \n",
      "                                                                 \n",
      " max_pooling2d_1 (MaxPooling  (None, 64, 64, 64)       0         \n",
      " 2D)                                                             \n",
      "                                                                 \n",
      " conv2d_2 (Conv2D)           (None, 64, 64, 128)       73856     \n",
      "                                                                 \n",
      " max_pooling2d_2 (MaxPooling  (None, 32, 32, 128)      0         \n",
      " 2D)                                                             \n",
      "                                                                 \n",
      " conv2d_3 (Conv2D)           (None, 32, 32, 128)       147584    \n",
      "                                                                 \n",
      " max_pooling2d_3 (MaxPooling  (None, 16, 16, 128)      0         \n",
      " 2D)                                                             \n",
      "                                                                 \n",
      " flatten (Flatten)           (None, 32768)             0         \n",
      "                                                                 \n",
      " dense (Dense)               (None, 1500)              49153500  \n",
      "                                                                 \n",
      " dropout (Dropout)           (None, 1500)              0         \n",
      "                                                                 \n",
      " dense_1 (Dense)             (None, 25)                37525     \n",
      "                                                                 \n",
      "=================================================================\n",
      "Total params: 49,431,857\n",
      "Trainable params: 49,431,857\n",
      "Non-trainable params: 0\n",
      "_________________________________________________________________\n"
     ]
    }
   ],
   "source": [
    "## Building CNN Model(Plant Disease Detection Model)\n",
    "\n",
    "cnn = keras.Sequential([\n",
    "    \n",
    "    ## Convolutional layers and pooling layers.\n",
    "    keras.layers.Conv2D(filters=32, kernel_size=(3,3), activation='relu', padding=\"same\", input_shape=(256,256,3)),\n",
    "    keras.layers.MaxPooling2D((2,2)),\n",
    "    \n",
    "    keras.layers.Conv2D(filters=64, kernel_size=(3,3), activation='relu', padding=\"same\"),\n",
    "    keras.layers.MaxPooling2D((2,2)),\n",
    "    \n",
    "    keras.layers.Conv2D(filters=128, kernel_size=(3,3), activation='relu', padding=\"same\"),\n",
    "    keras.layers.MaxPooling2D((2,2)),\n",
    "    \n",
    "    keras.layers.Conv2D(filters=128, kernel_size=(3,3), activation='relu', padding=\"same\"),\n",
    "    keras.layers.MaxPooling2D((2,2)),\n",
    "    \n",
    "    ## Flattening the 2D array into 1D in order to supply this for the Dense layers.\n",
    "    keras.layers.Flatten(),\n",
    "    \n",
    "    ## Dense Layers.\n",
    "    keras.layers.Dense(1500, activation='relu'),\n",
    "    keras.layers.Dropout(0.5),\n",
    "    \n",
    "    keras.layers.Dense(25, activation='softmax')\n",
    "])\n",
    "\n",
    "cnn.compile(\n",
    "    optimizer='adam',\n",
    "    loss='sparse_categorical_crossentropy',\n",
    "    metrics=['accuracy']\n",
    ")\n",
    "\n",
    "cnn.summary()"
   ]
  },
  {
   "cell_type": "code",
   "execution_count": 5,
   "id": "30b1ceb8",
   "metadata": {},
   "outputs": [
    {
     "name": "stdout",
     "output_type": "stream",
     "text": [
      "Epoch 1/8\n",
      "2881/2881 [==============================] - 365s 125ms/step - loss: 3.3330 - accuracy: 0.1143\n",
      "Epoch 2/8\n",
      "2881/2881 [==============================] - 359s 125ms/step - loss: 2.9327 - accuracy: 0.1192\n",
      "Epoch 3/8\n",
      "2881/2881 [==============================] - 362s 126ms/step - loss: 2.9669 - accuracy: 0.1174\n",
      "Epoch 4/8\n",
      "2881/2881 [==============================] - 359s 125ms/step - loss: 2.9278 - accuracy: 0.1218\n",
      "Epoch 5/8\n",
      "2881/2881 [==============================] - 364s 126ms/step - loss: 2.9116 - accuracy: 0.1254\n",
      "Epoch 6/8\n",
      "2881/2881 [==============================] - 362s 126ms/step - loss: 2.8947 - accuracy: 0.1307\n",
      "Epoch 7/8\n",
      "2881/2881 [==============================] - 361s 125ms/step - loss: 2.9011 - accuracy: 0.1272\n",
      "Epoch 8/8\n",
      "2881/2881 [==============================] - 360s 125ms/step - loss: 2.8997 - accuracy: 0.1271\n"
     ]
    },
    {
     "data": {
      "text/plain": [
       "<keras.callbacks.History at 0x2cd18da1700>"
      ]
     },
     "execution_count": 5,
     "metadata": {},
     "output_type": "execute_result"
    }
   ],
   "source": [
    "cnn.fit(ds_train, epochs=8)"
   ]
  }
 ],
 "metadata": {
  "kernelspec": {
   "display_name": "Python 3",
   "language": "python",
   "name": "python3"
  },
  "language_info": {
   "codemirror_mode": {
    "name": "ipython",
    "version": 3
   },
   "file_extension": ".py",
   "mimetype": "text/x-python",
   "name": "python",
   "nbconvert_exporter": "python",
   "pygments_lexer": "ipython3",
   "version": "3.8.8"
  }
 },
 "nbformat": 4,
 "nbformat_minor": 5
}
